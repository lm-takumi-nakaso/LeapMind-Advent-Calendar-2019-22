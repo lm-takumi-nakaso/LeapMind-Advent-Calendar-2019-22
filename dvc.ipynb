{
 "cells": [
  {
   "cell_type": "code",
   "execution_count": 5,
   "metadata": {},
   "outputs": [
    {
     "name": "stdout",
     "output_type": "stream",
     "text": [
      "Collecting dvc\n",
      "  Using cached https://files.pythonhosted.org/packages/b8/0a/7acfc54a050824d598901379cdc5a425859c548c4f438abb74576e28468e/dvc-0.77.3-py2.py3-none-any.whl\n",
      "Collecting ply>=3.9\n",
      "  Using cached https://files.pythonhosted.org/packages/a3/58/35da89ee790598a0700ea49b2a66594140f44dec458c07e8e3d4979137fc/ply-3.11-py2.py3-none-any.whl\n",
      "Collecting colorama>=0.3.9\n",
      "  Using cached https://files.pythonhosted.org/packages/c9/dc/45cdef1b4d119eb96316b3117e6d5708a08029992b2fee2c143c7a0a5cc5/colorama-0.4.3-py2.py3-none-any.whl\n",
      "Collecting PyYAML<5.2,>=5.1.2\n",
      "  Using cached https://files.pythonhosted.org/packages/e3/e8/b3212641ee2718d556df0f23f78de8303f068fe29cdaa7a91018849582fe/PyYAML-5.1.2.tar.gz\n",
      "Collecting pyasn1>=0.4.1\n",
      "  Using cached https://files.pythonhosted.org/packages/62/1e/a94a8d635fa3ce4cfc7f506003548d0a2447ae76fd5ca53932970fe3053f/pyasn1-0.4.8-py2.py3-none-any.whl\n",
      "Collecting jsonpath-ng>=1.4.3\n",
      "  Using cached https://files.pythonhosted.org/packages/95/32/ab29fef829c129e5847b8241541bec858515af2bd57a845fad78efde25f5/jsonpath_ng-1.4.3-py2.py3-none-any.whl\n",
      "Collecting voluptuous>=0.11.7\n",
      "  Using cached https://files.pythonhosted.org/packages/24/3b/fe531688c0d9e057fccc0bc9430c0a3d4b90e0d2f015326e659c2944e328/voluptuous-0.11.7.tar.gz\n",
      "Collecting ruamel.yaml>=0.16.1\n",
      "  Using cached https://files.pythonhosted.org/packages/fa/90/ecff85a2e9c497e2fa7142496e10233556b5137db5bd46f3f3b006935ca8/ruamel.yaml-0.16.5-py2.py3-none-any.whl\n",
      "Collecting gitpython>=2.1.8\n",
      "\u001b[?25l  Downloading https://files.pythonhosted.org/packages/20/8c/4543981439d23c4ff65b2e62dddd767ebc84a8e664a9b67e840d1e2730d3/GitPython-3.0.5-py3-none-any.whl (455kB)\n",
      "\u001b[K     |████████████████████████████████| 460kB 4.9MB/s eta 0:00:01\n",
      "\u001b[?25hCollecting networkx<2.4,>=2.1\n",
      "\u001b[?25l  Downloading https://files.pythonhosted.org/packages/85/08/f20aef11d4c343b557e5de6b9548761811eb16e438cee3d32b1c66c8566b/networkx-2.3.zip (1.7MB)\n",
      "\u001b[K     |████████████████████████████████| 1.8MB 11.0MB/s eta 0:00:01\n",
      "\u001b[?25hCollecting python-dateutil<2.8.1,>=2.1\n",
      "  Using cached https://files.pythonhosted.org/packages/41/17/c62faccbfbd163c7f57f3844689e3a78bae1f403648a6afb1d0866d87fbb/python_dateutil-2.8.0-py2.py3-none-any.whl\n",
      "Collecting requests>=2.22.0\n",
      "  Using cached https://files.pythonhosted.org/packages/51/bd/23c926cd341ea6b7dd0b2a00aba99ae0f828be89d72b2190f27c11d4b7fb/requests-2.22.0-py2.py3-none-any.whl\n",
      "Collecting packaging>=19.0\n",
      "  Using cached https://files.pythonhosted.org/packages/cf/94/9672c2d4b126e74c4496c6b3c58a8b51d6419267be9e70660ba23374c875/packaging-19.2-py2.py3-none-any.whl\n",
      "Collecting configobj>=5.0.6\n",
      "  Using cached https://files.pythonhosted.org/packages/64/61/079eb60459c44929e684fa7d9e2fdca403f67d64dd9dbac27296be2e0fab/configobj-5.0.6.tar.gz\n",
      "Collecting zc.lockfile>=1.2.1\n",
      "  Using cached https://files.pythonhosted.org/packages/6c/2a/268389776288f0f26c7272c70c36c96dcc0bdb88ab6216ea18e19df1fadd/zc.lockfile-2.0-py2.py3-none-any.whl\n",
      "Collecting flufl.lock>=3.2; python_version >= \"3.0\"\n",
      "  Downloading https://files.pythonhosted.org/packages/1e/68/393c148df629f90a919de653ebb967a8bd8c83d07d2bc3150ca0faff3940/flufl.lock-3.2.tar.gz\n",
      "Collecting appdirs>=1.4.3\n",
      "  Using cached https://files.pythonhosted.org/packages/56/eb/810e700ed1349edde4cbdc1b2a21e28cdf115f9faf263f6bbf8447c1abf3/appdirs-1.4.3-py2.py3-none-any.whl\n",
      "Collecting tqdm<5,>=4.40.0\n",
      "  Using cached https://files.pythonhosted.org/packages/8c/c3/d049cf3fb31094ee045ec1ee29fffac218c91e82c8838c49ab4c3e52627b/tqdm-4.41.0-py2.py3-none-any.whl\n",
      "Collecting inflect>=2.1.0\n",
      "  Downloading https://files.pythonhosted.org/packages/b7/e8/2f9027de74f8ca73efa712b01586c90890d45356a4a138badac69d76eb79/inflect-4.0.0-py2.py3-none-any.whl\n",
      "Collecting treelib>=1.5.5\n",
      "  Downloading https://files.pythonhosted.org/packages/17/47/0a8e745a1982ca82ef2149903fc77d5bbf08c4d566f8d238dca7eaf59837/treelib-1.5.5.tar.gz\n",
      "Collecting humanize>=0.5.1\n",
      "  Using cached https://files.pythonhosted.org/packages/8c/e0/e512e4ac6d091fc990bbe13f9e0378f34cf6eecd1c6c268c9e598dcf5bb9/humanize-0.5.1.tar.gz\n",
      "Collecting future>=0.16.0\n",
      "  Using cached https://files.pythonhosted.org/packages/45/0b/38b06fd9b92dc2b68d58b75f900e97884c45bedd2ff83203d933cf5851c9/future-0.18.2.tar.gz\n",
      "Collecting gitdb2>=2.0.6\n",
      "  Using cached https://files.pythonhosted.org/packages/03/6c/99296f89bad2ef85626e1df9f677acbee8885bb043ad82ad3ed4746d2325/gitdb2-2.0.6-py2.py3-none-any.whl\n",
      "Collecting pathspec>=0.6.0\n",
      "  Using cached https://files.pythonhosted.org/packages/7a/68/5902e8cd7f7b17c5879982a3a3ee2ad0c3b92b80c79989a2d3e1ca8d29e1/pathspec-0.6.0.tar.gz\n",
      "Collecting shortuuid>=0.5.0\n",
      "  Using cached https://files.pythonhosted.org/packages/80/d7/2bfc9332e68d3e15ea97b9b1588b3899ad565120253d3fd71c8f7f13b4fe/shortuuid-0.5.0.tar.gz\n",
      "Collecting nanotime>=0.5.2\n",
      "  Using cached https://files.pythonhosted.org/packages/d5/54/6d5924f59cf671326e7809f4b3f70fa8df535d67e952ad0b6fea02f52faf/nanotime-0.5.2.tar.gz\n",
      "Collecting distro>=1.3.0\n",
      "  Using cached https://files.pythonhosted.org/packages/ea/35/82f79b92fa4d937146c660a6482cee4f3dfa1f97ff3d2a6f3ecba33e712e/distro-1.4.0-py2.py3-none-any.whl\n",
      "Requirement already satisfied: setuptools>=34.0.0 in /Users/takumi.nakaso/.virtualenvs/leapmind-advent-calendar-2019-12-22/lib/python3.6/site-packages (from dvc) (42.0.2)\n",
      "Collecting funcy>=1.14\n",
      "  Using cached https://files.pythonhosted.org/packages/ce/4b/6ffa76544e46614123de31574ad95758c421aae391a1764921b8a81e1eae/funcy-1.14.tar.gz\n",
      "Collecting configparser>=3.5.0\n",
      "  Using cached https://files.pythonhosted.org/packages/7a/2a/95ed0501cf5d8709490b1d3a3f9b5cf340da6c433f896bbe9ce08dbe6785/configparser-4.0.2-py2.py3-none-any.whl\n",
      "Collecting grandalf==0.6\n",
      "  Downloading https://files.pythonhosted.org/packages/54/f4/a0b6a4c6d616d0a838b2dd0bc7bf74d73e8e8cdc880bab7fdb5fdc3d0e06/grandalf-0.6-py3-none-any.whl\n",
      "Requirement already satisfied: decorator in /Users/takumi.nakaso/.virtualenvs/leapmind-advent-calendar-2019-12-22/lib/python3.6/site-packages (from jsonpath-ng>=1.4.3->dvc) (4.4.1)\n",
      "Requirement already satisfied: six in /Users/takumi.nakaso/.virtualenvs/leapmind-advent-calendar-2019-12-22/lib/python3.6/site-packages (from jsonpath-ng>=1.4.3->dvc) (1.13.0)\n",
      "Collecting ruamel.yaml.clib>=0.1.2; platform_python_implementation == \"CPython\" and python_version < \"3.8\"\n",
      "\u001b[?25l  Downloading https://files.pythonhosted.org/packages/05/cf/efad3185a4b3d78d662dd38d2e5bcc45d3bdb407be5107711a148a06f593/ruamel.yaml.clib-0.2.0-cp36-cp36m-macosx_10_9_x86_64.whl (147kB)\n",
      "\u001b[K     |████████████████████████████████| 153kB 51.0MB/s eta 0:00:01\n",
      "\u001b[?25hCollecting certifi>=2017.4.17\n",
      "  Using cached https://files.pythonhosted.org/packages/b9/63/df50cac98ea0d5b006c55a399c3bf1db9da7b5a24de7890bc9cfd5dd9e99/certifi-2019.11.28-py2.py3-none-any.whl\n",
      "Collecting urllib3!=1.25.0,!=1.25.1,<1.26,>=1.21.1\n",
      "  Using cached https://files.pythonhosted.org/packages/b4/40/a9837291310ee1ccc242ceb6ebfd9eb21539649f193a7c8c86ba15b98539/urllib3-1.25.7-py2.py3-none-any.whl\n",
      "Collecting chardet<3.1.0,>=3.0.2\n",
      "  Using cached https://files.pythonhosted.org/packages/bc/a9/01ffebfb562e4274b6487b4bb1ddec7ca55ec7510b22e4c51f14098443b8/chardet-3.0.4-py2.py3-none-any.whl\n",
      "Collecting idna<2.9,>=2.5\n",
      "  Using cached https://files.pythonhosted.org/packages/14/2c/cd551d81dbe15200be1cf41cd03869a46fe7226e7450af7a6545bfc474c9/idna-2.8-py2.py3-none-any.whl\n",
      "Collecting pyparsing>=2.0.2\n",
      "  Using cached https://files.pythonhosted.org/packages/c0/0c/fc2e007d9a992d997f04a80125b0f183da7fb554f1de701bbb70a8e7d479/pyparsing-2.4.5-py2.py3-none-any.whl\n",
      "Collecting atpublic\n",
      "  Downloading https://files.pythonhosted.org/packages/1d/71/125eefdde54cf640eb2c22f868158fb0595fce1512c6c51201b105c44e63/atpublic-1.0.tar.gz\n",
      "Requirement already satisfied: importlib-metadata; python_version < \"3.8\" in /Users/takumi.nakaso/.virtualenvs/leapmind-advent-calendar-2019-12-22/lib/python3.6/site-packages (from inflect>=2.1.0->dvc) (1.3.0)\n",
      "Collecting smmap2>=2.0.0\n",
      "  Using cached https://files.pythonhosted.org/packages/55/d2/866d45e3a121ee15a1dc013824d58072fd5c7799c9c34d01378eb262ca8f/smmap2-2.0.5-py2.py3-none-any.whl\n",
      "Requirement already satisfied: zipp>=0.5 in /Users/takumi.nakaso/.virtualenvs/leapmind-advent-calendar-2019-12-22/lib/python3.6/site-packages (from importlib-metadata; python_version < \"3.8\"->inflect>=2.1.0->dvc) (0.6.0)\n",
      "Requirement already satisfied: more-itertools in /Users/takumi.nakaso/.virtualenvs/leapmind-advent-calendar-2019-12-22/lib/python3.6/site-packages (from zipp>=0.5->importlib-metadata; python_version < \"3.8\"->inflect>=2.1.0->dvc) (8.0.2)\n",
      "Building wheels for collected packages: PyYAML, voluptuous, networkx, configobj, flufl.lock, treelib, humanize, future, pathspec, shortuuid, nanotime, funcy, atpublic\n",
      "  Building wheel for PyYAML (setup.py) ... \u001b[?25ldone\n",
      "\u001b[?25h  Created wheel for PyYAML: filename=PyYAML-5.1.2-cp36-cp36m-macosx_10_9_x86_64.whl size=44109 sha256=856af55dd18ba009ab4fbc3c42be80d062a2036115d646e891ccda22203d623f\n",
      "  Stored in directory: /Users/takumi.nakaso/Library/Caches/pip/wheels/d9/45/dd/65f0b38450c47cf7e5312883deb97d065e030c5cca0a365030\n",
      "  Building wheel for voluptuous (setup.py) ... \u001b[?25ldone\n",
      "\u001b[?25h  Created wheel for voluptuous: filename=voluptuous-0.11.7-cp36-none-any.whl size=28748 sha256=c3b306ccffd48a638f58a8b27c70596b724be00faee597f2b6b7b3a68cd28ec9\n",
      "  Stored in directory: /Users/takumi.nakaso/Library/Caches/pip/wheels/e8/e3/d0/a2d476b9cd09b8f5979789e0aaf07119726a3cfb19ee67aa1e\n",
      "  Building wheel for networkx (setup.py) ... \u001b[?25ldone\n",
      "\u001b[?25h  Created wheel for networkx: filename=networkx-2.3-py2.py3-none-any.whl size=1556408 sha256=70327a8f51b40a33800e7ca2c60217acdb600640d060093b5ea529a25949dec1\n",
      "  Stored in directory: /Users/takumi.nakaso/Library/Caches/pip/wheels/de/63/64/3699be2a9d0ccdb37c7f16329acf3863fd76eda58c39c737af\n",
      "  Building wheel for configobj (setup.py) ... \u001b[?25ldone\n",
      "\u001b[?25h  Created wheel for configobj: filename=configobj-5.0.6-cp36-none-any.whl size=34546 sha256=dcb64ff96a67201c47783ddf5dda915a9c6c817283d1be11649f7394d93d858a\n",
      "  Stored in directory: /Users/takumi.nakaso/Library/Caches/pip/wheels/f1/e4/16/4981ca97c2d65106b49861e0b35e2660695be7219a2d351ee0\n",
      "  Building wheel for flufl.lock (setup.py) ... \u001b[?25ldone\n",
      "\u001b[?25h  Created wheel for flufl.lock: filename=flufl.lock-3.2-cp36-none-any.whl size=19929 sha256=4bed0ce4660122f5136b5a3f60f1fadc53ae4f75669d320e4f69675b91fafc38\n",
      "  Stored in directory: /Users/takumi.nakaso/Library/Caches/pip/wheels/4f/51/d7/f65a7b7f37da7594f7021b122fe677187667ad21f1171d2514\n",
      "  Building wheel for treelib (setup.py) ... \u001b[?25ldone\n",
      "\u001b[?25h  Created wheel for treelib: filename=treelib-1.5.5-cp36-none-any.whl size=15518 sha256=bb0e6fce683958c4b04f6d9be52e63c49c3c06742ee09c223976640efe270205\n",
      "  Stored in directory: /Users/takumi.nakaso/Library/Caches/pip/wheels/e4/1f/b0/8730974894530362affb8a242aee8f3b42d55ec822c9e2a520\n",
      "  Building wheel for humanize (setup.py) ... \u001b[?25ldone\n",
      "\u001b[?25h  Created wheel for humanize: filename=humanize-0.5.1-cp36-none-any.whl size=17901 sha256=20b10696ba0dce12265d67eb88ae5fddf429b6c68d3f495fcf3546f5b3d26a09\n",
      "  Stored in directory: /Users/takumi.nakaso/Library/Caches/pip/wheels/69/86/6c/f8b8593bc273ec4b0c653d3827f7482bb2001a2781a73b7f44\n",
      "  Building wheel for future (setup.py) ... \u001b[?25ldone\n",
      "\u001b[?25h  Created wheel for future: filename=future-0.18.2-cp36-none-any.whl size=491057 sha256=8451d1200636ab9ad0d7e15e2cea2e58df029a7884576f2f9bd93cbbc9d9e8a2\n",
      "  Stored in directory: /Users/takumi.nakaso/Library/Caches/pip/wheels/8b/99/a0/81daf51dcd359a9377b110a8a886b3895921802d2fc1b2397e\n",
      "  Building wheel for pathspec (setup.py) ... \u001b[?25ldone\n",
      "\u001b[?25h  Created wheel for pathspec: filename=pathspec-0.6.0-cp36-none-any.whl size=26671 sha256=29dad4f26bd90a0d8985e6ba45378928597651e04bea145a3077e33b578f6244\n",
      "  Stored in directory: /Users/takumi.nakaso/Library/Caches/pip/wheels/62/b8/e1/e2719465b5947c40cd85d613d6cb33449b86a1ca5a6c574269\n",
      "  Building wheel for shortuuid (setup.py) ... \u001b[?25ldone\n",
      "\u001b[?25h  Created wheel for shortuuid: filename=shortuuid-0.5.0-cp36-none-any.whl size=5499 sha256=d0d73303f0ca625e14951202fa3430ceb4f5b38e982e5c886c13018e1a6879b6\n",
      "  Stored in directory: /Users/takumi.nakaso/Library/Caches/pip/wheels/3f/eb/fd/69e5177f67b505e44acbd1aedfbe44b91768ee0c4cd5636576\n",
      "  Building wheel for nanotime (setup.py) ... \u001b[?25ldone\n",
      "\u001b[?25h  Created wheel for nanotime: filename=nanotime-0.5.2-cp36-none-any.whl size=2442 sha256=aaf494b2bad59f6e57da8e851e2f03e873c78293dbb2b094a93042e8f33c8c32\n",
      "  Stored in directory: /Users/takumi.nakaso/Library/Caches/pip/wheels/41/99/17/7135f635215e1f61e906295afd11f4f791cfe4ab45f3bfdca2\n",
      "  Building wheel for funcy (setup.py) ... \u001b[?25ldone\n",
      "\u001b[?25h  Created wheel for funcy: filename=funcy-1.14-py2.py3-none-any.whl size=32040 sha256=31f22ac0030049272faa8990b86e08210394cbc583dbc7dc29b8d70b40f2fb55\n",
      "  Stored in directory: /Users/takumi.nakaso/Library/Caches/pip/wheels/20/5a/d8/1d875df03deae6f178dfdf70238cca33f948ef8a6f5209f2eb\n",
      "  Building wheel for atpublic (setup.py) ... \u001b[?25ldone\n",
      "\u001b[?25h  Created wheel for atpublic: filename=atpublic-1.0-cp36-none-any.whl size=4504 sha256=be66de9adc78f0568169ecf1c43c3e6e33a3a34072cd73fabbbb1a8c5cd3cb6b\n",
      "  Stored in directory: /Users/takumi.nakaso/Library/Caches/pip/wheels/e1/26/5d/fb4b06bb9bb028e49b117b9bdb93c9875e751ff52f6b08aa27\n",
      "Successfully built PyYAML voluptuous networkx configobj flufl.lock treelib humanize future pathspec shortuuid nanotime funcy atpublic\n",
      "Installing collected packages: ply, colorama, PyYAML, pyasn1, jsonpath-ng, voluptuous, ruamel.yaml.clib, ruamel.yaml, smmap2, gitdb2, gitpython, networkx, python-dateutil, certifi, urllib3, chardet, idna, requests, pyparsing, packaging, configobj, zc.lockfile, atpublic, flufl.lock, appdirs, tqdm, inflect, treelib, humanize, future, pathspec, shortuuid, nanotime, distro, funcy, configparser, grandalf, dvc\n",
      "  Found existing installation: python-dateutil 2.8.1\n",
      "    Uninstalling python-dateutil-2.8.1:\n",
      "      Successfully uninstalled python-dateutil-2.8.1\n",
      "Successfully installed PyYAML-5.1.2 appdirs-1.4.3 atpublic-1.0 certifi-2019.11.28 chardet-3.0.4 colorama-0.4.3 configobj-5.0.6 configparser-4.0.2 distro-1.4.0 dvc-0.77.3 flufl.lock-3.2 funcy-1.14 future-0.18.2 gitdb2-2.0.6 gitpython-3.0.5 grandalf-0.6 humanize-0.5.1 idna-2.8 inflect-4.0.0 jsonpath-ng-1.4.3 nanotime-0.5.2 networkx-2.3 packaging-19.2 pathspec-0.6.0 ply-3.11 pyasn1-0.4.8 pyparsing-2.4.5 python-dateutil-2.8.0 requests-2.22.0 ruamel.yaml-0.16.5 ruamel.yaml.clib-0.2.0 shortuuid-0.5.0 smmap2-2.0.5 tqdm-4.41.0 treelib-1.5.5 urllib3-1.25.7 voluptuous-0.11.7 zc.lockfile-2.0\n"
     ]
    }
   ],
   "source": [
    "pip install dvc"
   ]
  },
  {
   "cell_type": "code",
   "execution_count": 6,
   "metadata": {},
   "outputs": [
    {
     "name": "stdout",
     "output_type": "stream",
     "text": [
      "dvc is /Users/takumi.nakaso/.virtualenvs/leapmind-advent-calendar-2019-12-22/bin/dvc\n"
     ]
    }
   ],
   "source": [
    "type dvc"
   ]
  },
  {
   "cell_type": "code",
   "execution_count": 7,
   "metadata": {},
   "outputs": [
    {
     "name": "stdout",
     "output_type": "stream",
     "text": [
      "0.77.3\n",
      "\u001b[0m"
     ]
    }
   ],
   "source": [
    "dvc --version"
   ]
  },
  {
   "cell_type": "code",
   "execution_count": 10,
   "metadata": {},
   "outputs": [
    {
     "name": "stdout",
     "output_type": "stream",
     "text": [
      "On branch dvc\n",
      "Untracked files:\n",
      "  (use \"git add <file>...\" to include in what will be committed)\n",
      "\t\u001b[31mmodel.h5\u001b[m\n",
      "\n",
      "nothing added to commit but untracked files present (use \"git add\" to track)\n"
     ]
    }
   ],
   "source": [
    "git status"
   ]
  },
  {
   "cell_type": "code",
   "execution_count": 9,
   "metadata": {},
   "outputs": [
    {
     "name": "stdout",
     "output_type": "stream",
     "text": [
      "On branch dvc\n",
      "Untracked files:\n",
      "  (use \"git add <file>...\" to include in what will be committed)\n",
      "\t\u001b[31mmodel.h5\u001b[m\n",
      "\n",
      "nothing added to commit but untracked files present (use \"git add\" to track)\n"
     ]
    }
   ],
   "source": [
    "git add "
   ]
  },
  {
   "cell_type": "code",
   "execution_count": 11,
   "metadata": {},
   "outputs": [
    {
     "name": "stdout",
     "output_type": "stream",
     "text": [
      "\n",
      "You can now commit the changes to git.\n",
      "\n",
      "\u001b[31m+---------------------------------------------------------------------+\n",
      "\u001b[39m\u001b[31m|\u001b[39m                                                                     \u001b[31m|\u001b[39m\n",
      "\u001b[31m|\u001b[39m        DVC has enabled anonymous aggregate usage analytics.         \u001b[31m|\u001b[39m\n",
      "\u001b[31m|\u001b[39m     Read the analytics documentation (and how to opt-out) here:     \u001b[31m|\u001b[39m\n",
      "\u001b[31m|\u001b[39m              \u001b[34mhttps://dvc.org/doc/user-guide/analytics\u001b[39m               \u001b[31m|\u001b[39m\n",
      "\u001b[31m|\u001b[39m                                                                     \u001b[31m|\u001b[39m\n",
      "\u001b[31m+---------------------------------------------------------------------+\n",
      "\u001b[39m\n",
      "\u001b[33mWhat's next?\u001b[39m\n",
      "\u001b[33m------------\u001b[39m\n",
      "- Check out the documentation: \u001b[34mhttps://dvc.org/doc\u001b[39m\n",
      "- Get help and share ideas: \u001b[34mhttps://dvc.org/chat\u001b[39m\n",
      "- Star us on GitHub: \u001b[34mhttps://github.com/iterative/dvc\u001b[39m\n",
      "\u001b[0m"
     ]
    }
   ],
   "source": [
    "dvc init"
   ]
  },
  {
   "cell_type": "code",
   "execution_count": 12,
   "metadata": {},
   "outputs": [
    {
     "name": "stdout",
     "output_type": "stream",
     "text": [
      "100% Add|██████████████████████████████████|1.00/1.00 [00:00<00:00,  2.70file/s]\n",
      "\n",
      "To track the changes with git, run:\n",
      "\n",
      "\tgit add .gitignore model.h5.dvc\n",
      "\u001b[0m"
     ]
    }
   ],
   "source": [
    "dvc add model.h5"
   ]
  },
  {
   "cell_type": "code",
   "execution_count": 15,
   "metadata": {},
   "outputs": [
    {
     "name": "stdout",
     "output_type": "stream",
     "text": [
      "/model.h5\n"
     ]
    }
   ],
   "source": [
    "cat .gitignore | tail -n 1"
   ]
  },
  {
   "cell_type": "code",
   "execution_count": 16,
   "metadata": {},
   "outputs": [
    {
     "name": "stdout",
     "output_type": "stream",
     "text": [
      "On branch dvc\n",
      "Changes to be committed:\n",
      "  (use \"git restore --staged <file>...\" to unstage)\n",
      "\t\u001b[32mnew file:   .dvc/.gitignore\u001b[m\n",
      "\t\u001b[32mnew file:   .dvc/config\u001b[m\n",
      "\n",
      "Changes not staged for commit:\n",
      "  (use \"git add <file>...\" to update what will be committed)\n",
      "  (use \"git restore <file>...\" to discard changes in working directory)\n",
      "\t\u001b[31mmodified:   .gitignore\u001b[m\n",
      "\n",
      "Untracked files:\n",
      "  (use \"git add <file>...\" to include in what will be committed)\n",
      "\t\u001b[31mmodel.h5.dvc\u001b[m\n",
      "\n"
     ]
    }
   ],
   "source": [
    "git status"
   ]
  },
  {
   "cell_type": "code",
   "execution_count": 17,
   "metadata": {},
   "outputs": [],
   "source": [
    "git add -A"
   ]
  },
  {
   "cell_type": "code",
   "execution_count": 18,
   "metadata": {},
   "outputs": [
    {
     "name": "stdout",
     "output_type": "stream",
     "text": [
      "[dvc 3cddd57] Commit using DVC\n",
      " 4 files changed, 17 insertions(+)\n",
      " create mode 100644 .dvc/.gitignore\n",
      " create mode 100644 .dvc/config\n",
      " create mode 100644 model.h5.dvc\n"
     ]
    }
   ],
   "source": [
    "git commit -m 'Commit using DVC'"
   ]
  },
  {
   "cell_type": "code",
   "execution_count": 1,
   "metadata": {},
   "outputs": [],
   "source": [
    "rm model.h5.dvc"
   ]
  },
  {
   "cell_type": "code",
   "execution_count": 4,
   "metadata": {},
   "outputs": [
    {
     "name": "stdout",
     "output_type": "stream",
     "text": [
      "Running command:                                                        \n",
      "\tpython main.py\n",
      "WARNING:tensorflow:From /Users/takumi.nakaso/.virtualenvs/leapmind-advent-calendar-2019-12-22/lib/python3.6/site-packages/tensorflow_core/python/ops/resource_variable_ops.py:1630: calling BaseResourceVariable.__init__ (from tensorflow.python.ops.resource_variable_ops) with constraint is deprecated and will be removed in a future version.\n",
      "Instructions for updating:\n",
      "If using Keras pass *_constraint arguments to layers.\n",
      "Train on 60000 samples\n",
      "2019-12-22 07:55:55.864501: I tensorflow/core/platform/cpu_feature_guard.cc:142] Your CPU supports instructions that this TensorFlow binary was not compiled to use: AVX2 FMA\n",
      "2019-12-22 07:55:55.888760: I tensorflow/compiler/xla/service/service.cc:168] XLA service 0x7fa9965619b0 initialized for platform Host (this does not guarantee that XLA will be used). Devices:\n",
      "2019-12-22 07:55:55.888802: I tensorflow/compiler/xla/service/service.cc:176]   StreamExecutor device (0): Host, Default Version\n",
      "Epoch 1/5\n",
      "60000/60000 [==============================] - 3s 46us/sample - loss: 0.2221 - acc: 0.9342\n",
      "Epoch 2/5\n",
      "60000/60000 [==============================] - 3s 45us/sample - loss: 0.0985 - acc: 0.9698\n",
      "Epoch 3/5\n",
      "60000/60000 [==============================] - 3s 45us/sample - loss: 0.0696 - acc: 0.9782\n",
      "Epoch 4/5\n",
      "60000/60000 [==============================] - 3s 45us/sample - loss: 0.0531 - acc: 0.9832\n",
      "Epoch 5/5\n",
      "60000/60000 [==============================] - 3s 44us/sample - loss: 0.0425 - acc: 0.9865\n",
      "10000/10000 [==============================] - 0s 25us/sample - loss: 0.0621 - acc: 0.9823\n",
      "                                                                        \n",
      "To track the changes with git, run:\n",
      "\n",
      "\tgit add model.h5.dvc\n",
      "\u001b[0m"
     ]
    }
   ],
   "source": [
    "dvc run -d main.py -o model.h5 python main.py"
   ]
  },
  {
   "cell_type": "code",
   "execution_count": 5,
   "metadata": {},
   "outputs": [
    {
     "name": "stdout",
     "output_type": "stream",
     "text": [
      "\u001b[0mmd5: 86c0ece3c4f9ce7b1604f8b5c08bfe37\n",
      "cmd: python main.py\n",
      "deps:\n",
      "- md5: b69263d33ce2af3f92f32f59b730bdad\n",
      "  path: main.py\n",
      "outs:\n",
      "- md5: e6173c777bbf8852067c479546fbff32\n",
      "  path: model.h5\n",
      "  cache: true\n",
      "  metric: false\n",
      "  persist: false\n"
     ]
    }
   ],
   "source": [
    "cat model.h5.dvc"
   ]
  },
  {
   "cell_type": "code",
   "execution_count": 6,
   "metadata": {},
   "outputs": [],
   "source": [
    "git add model.h5.dvc"
   ]
  },
  {
   "cell_type": "code",
   "execution_count": 19,
   "metadata": {},
   "outputs": [
    {
     "name": "stdout",
     "output_type": "stream",
     "text": [
      "Data and pipelines are up to date.                                      \n",
      "\u001b[0m"
     ]
    }
   ],
   "source": [
    "dvc repro model.h5.dvc"
   ]
  },
  {
   "cell_type": "code",
   "execution_count": 7,
   "metadata": {},
   "outputs": [
    {
     "name": "stdout",
     "output_type": "stream",
     "text": [
      "[dvc 5361dc0] Add pipeline of DVC\n",
      " 1 file changed, 6 insertions(+), 2 deletions(-)\n"
     ]
    }
   ],
   "source": [
    "git commit -m 'Add pipeline of DVC'"
   ]
  },
  {
   "cell_type": "code",
   "execution_count": 9,
   "metadata": {},
   "outputs": [
    {
     "name": "stdout",
     "output_type": "stream",
     "text": [
      "100% Add|██████████████████████████████████|1.00/1.00 [00:00<00:00,  3.72file/s]\n",
      "\n",
      "To track the changes with git, run:\n",
      "\n",
      "\tgit add model.h5.dvc\n",
      "\u001b[0m"
     ]
    }
   ],
   "source": [
    "dvc add model.h5"
   ]
  },
  {
   "cell_type": "code",
   "execution_count": 12,
   "metadata": {},
   "outputs": [
    {
     "name": "stdout",
     "output_type": "stream",
     "text": [
      "Setting 'origin' as a default remote.\n",
      "\u001b[0m"
     ]
    }
   ],
   "source": [
    "dvc remote add -d origin \"$(pwd)\".dvc"
   ]
  },
  {
   "cell_type": "code",
   "execution_count": 14,
   "metadata": {},
   "outputs": [
    {
     "name": "stdout",
     "output_type": "stream",
     "text": [
      "\u001b[0morigin\t/Users/takumi.nakaso/Projects/leapmind-advent-calendar-2019-12-22.dvc\n",
      "\u001b[0m"
     ]
    }
   ],
   "source": [
    "dvc remote list"
   ]
  },
  {
   "cell_type": "code",
   "execution_count": 15,
   "metadata": {},
   "outputs": [
    {
     "name": "stdout",
     "output_type": "stream",
     "text": [
      "\u001b[0m                                                                            "
     ]
    }
   ],
   "source": [
    "dvc push"
   ]
  },
  {
   "cell_type": "code",
   "execution_count": null,
   "metadata": {},
   "outputs": [],
   "source": []
  }
 ],
 "metadata": {
  "kernelspec": {
   "display_name": "Bash",
   "language": "bash",
   "name": "bash"
  },
  "language_info": {
   "codemirror_mode": "shell",
   "file_extension": ".sh",
   "mimetype": "text/x-sh",
   "name": "bash"
  }
 },
 "nbformat": 4,
 "nbformat_minor": 4
}
